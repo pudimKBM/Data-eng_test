{
 "cells": [
  {
   "cell_type": "code",
   "execution_count": 15,
   "id": "7598d5e1",
   "metadata": {},
   "outputs": [],
   "source": [
    "import pandas as pd\n",
    "import os\n",
    "import zipfile\n",
    "import json\n"
   ]
  },
  {
   "cell_type": "code",
   "execution_count": 16,
   "id": "a1b29e6f",
   "metadata": {},
   "outputs": [],
   "source": [
    "zip_file_path = 'datatest (1).zip'\n",
    "folder_path = \"root/workspace/data-eng-test\"\n",
    "data = {}\n"
   ]
  },
  {
   "cell_type": "code",
   "execution_count": 17,
   "id": "c7ef1f97",
   "metadata": {},
   "outputs": [],
   "source": [
    "with zipfile.ZipFile(zip_file_path, 'r') as zip_file:\n",
    "    \n",
    "    # iterate over each file in the zip archive\n",
    "    for filename in zip_file.namelist():\n",
    "        \n",
    "        # check if the file is in the folder we want to read from\n",
    "        if filename.startswith(folder_path) and filename.endswith('.json'):\n",
    "            \n",
    "            # read the file into a Python dictionary\n",
    "            with zip_file.open(filename) as json_file:\n",
    "                json_data = json.load(json_file)\n",
    "                \n",
    "                # get the keys in the dictionary\n",
    "                keys = tuple(json_data.keys())\n",
    "                \n",
    "                # create a new DataFrame for each unique set of keys\n",
    "                if keys not in data:\n",
    "                    data[keys] = []\n",
    "                \n",
    "                # append the data to the list for the current set of keys\n",
    "                data[keys].append(json_data)"
   ]
  },
  {
   "cell_type": "code",
   "execution_count": 18,
   "id": "977842f9",
   "metadata": {},
   "outputs": [],
   "source": [
    "dfs = {}\n",
    "for keys, json_list in data.items():\n",
    "    df = pd.json_normalize(json_list)\n",
    "    dfs[keys] = df"
   ]
  },
  {
   "cell_type": "code",
   "execution_count": 25,
   "id": "6b32b4cf",
   "metadata": {},
   "outputs": [
    {
     "name": "stdout",
     "output_type": "stream",
     "text": [
      "DataFrame for keys ('assortment',):\n",
      "<pandas.io.formats.style.Styler object at 0x0000017806473700>\n",
      "DataFrame for keys ('assortment', 'images'):\n",
      "<pandas.io.formats.style.Styler object at 0x0000017806473700>\n",
      "DataFrame for keys ('assortment', 'reviews', 'variants'):\n",
      "<pandas.io.formats.style.Styler object at 0x0000017806473700>\n",
      "DataFrame for keys ('assortment', 'images', 'reviews'):\n",
      "<pandas.io.formats.style.Styler object at 0x0000017806473700>\n",
      "DataFrame for keys ('assortment', 'marketplace'):\n",
      "<pandas.io.formats.style.Styler object at 0x0000017806473700>\n",
      "DataFrame for keys ('assortment', 'reviews'):\n",
      "<pandas.io.formats.style.Styler object at 0x0000017806473700>\n",
      "DataFrame for keys ('assortment', 'images', 'reviews', 'variants'):\n",
      "<pandas.io.formats.style.Styler object at 0x0000017806473700>\n",
      "DataFrame for keys ('assortment', 'images', 'marketplace', 'reviews', 'variants'):\n",
      "<pandas.io.formats.style.Styler object at 0x0000017806473700>\n",
      "DataFrame for keys ('assortment', 'images', 'marketplace', 'reviews'):\n",
      "<pandas.io.formats.style.Styler object at 0x0000017806473700>\n",
      "DataFrame for keys ('assortment', 'images', 'marketplace'):\n",
      "<pandas.io.formats.style.Styler object at 0x0000017806473700>\n",
      "DataFrame for keys ('assortment', 'marketplace', 'reviews'):\n",
      "<pandas.io.formats.style.Styler object at 0x0000017806473700>\n",
      "DataFrame for keys ('assortment', 'marketplace', 'reviews', 'variants'):\n",
      "<pandas.io.formats.style.Styler object at 0x0000017806473700>\n",
      "DataFrame for keys ('assortment', 'images', 'variants'):\n",
      "<pandas.io.formats.style.Styler object at 0x0000017806473700>\n",
      "DataFrame for keys ('assortment', 'images', 'marketplace', 'variants'):\n",
      "<pandas.io.formats.style.Styler object at 0x0000017806473700>\n"
     ]
    }
   ],
   "source": [
    "for keys, df in dfs.items():\n",
    "    print(f\"DataFrame for keys {keys}:\")\n",
    "    print(df.head())"
   ]
  },
  {
   "cell_type": "code",
   "execution_count": null,
   "id": "51daab91",
   "metadata": {},
   "outputs": [],
   "source": []
  }
 ],
 "metadata": {
  "kernelspec": {
   "display_name": "Python 3 (ipykernel)",
   "language": "python",
   "name": "python3"
  },
  "language_info": {
   "codemirror_mode": {
    "name": "ipython",
    "version": 3
   },
   "file_extension": ".py",
   "mimetype": "text/x-python",
   "name": "python",
   "nbconvert_exporter": "python",
   "pygments_lexer": "ipython3",
   "version": "3.10.9"
  }
 },
 "nbformat": 4,
 "nbformat_minor": 5
}
